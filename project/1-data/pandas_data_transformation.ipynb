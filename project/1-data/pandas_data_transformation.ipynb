{
  "cells": [
    {
      "cell_type": "code",
      "execution_count": null,
      "metadata": {
        "id": "JGAEchoje3Fy"
      },
      "outputs": [],
      "source": [
        "import pandas as pd"
      ]
    },
    {
      "cell_type": "code",
      "execution_count": null,
      "metadata": {
        "id": "jlXlTUZHgz3b"
      },
      "outputs": [],
      "source": [
        "path_sample_data = \"/content/drive/MyDrive/KTU/KTU_Challenge/P160M132-data/1-sample_data.csv\"\n",
        "path_additional_data = \"/content/drive/MyDrive/KTU/KTU_Challenge/P160M132-data/2-additional_data.csv\"\n",
        "path_additional_features = \"/content/drive/MyDrive/KTU/KTU_Challenge/P160M132-data/3-additional_features.csv\"\n",
        "\n",
        "df_sample_data= pd.read_csv(path_sample_data)\n",
        "df_additional_data= pd.read_csv(path_additional_data)\n",
        "df_additional_features= pd.read_csv(path_additional_features)"
      ]
    },
    {
      "cell_type": "code",
      "execution_count": null,
      "metadata": {
        "id": "5gsZ0Z__tzpH"
      },
      "outputs": [],
      "source": [
        "pdf_union = pd.concat([df_sample_data, df_additional_data])\n",
        "pdf_merged = pdf_union.merge(df_additional_features, on=\"id\", how=\"inner\")"
      ]
    },
    {
      "cell_type": "code",
      "source": [
        "pdf_merged[\"loan_purpose\"].value_counts()"
      ],
      "metadata": {
        "colab": {
          "base_uri": "https://localhost:8080/"
        },
        "id": "tN7L3jbabKV6",
        "outputId": "62cfa606-dac4-4203-a90c-581c6972a511"
      },
      "execution_count": null,
      "outputs": [
        {
          "output_type": "execute_result",
          "data": {
            "text/plain": [
              "debt_consolidation      7868889\n",
              "other                    920066\n",
              "home_improvements        584493\n",
              "business_loan            155856\n",
              "buy_a_car                125140\n",
              "medical_bills            111058\n",
              "buy_house                 67762\n",
              "take_a_trip               55982\n",
              "major_purchase            35029\n",
              "small_business            27701\n",
              "moving                    14991\n",
              "wedding                   11848\n",
              "educational_expenses      10160\n",
              "vacation                  10039\n",
              "renewable_energy            985\n",
              "UFVCU1VC                      1\n",
              "Name: loan_purpose, dtype: int64"
            ]
          },
          "metadata": {},
          "execution_count": 4
        }
      ]
    },
    {
      "cell_type": "markdown",
      "source": [
        "Matome, jog tarp 'loan_purpose' reikšmių yra neaiški **UFVCU1VC** reikšmė, kuri ir yra \"Easter egg\" šiame datasete. Ištrinsiu eilutę su šiuo datasetu, kad modelį galėtume treniruoti sėkmingai."
      ],
      "metadata": {
        "id": "52vCsy8tR4EE"
      }
    },
    {
      "cell_type": "code",
      "source": [
        "pdf_merged = pdf_merged[~(pdf_merged[\"loan_purpose\"]==\"UFVCU1VC\")]"
      ],
      "metadata": {
        "id": "gtExqINfbamQ"
      },
      "execution_count": null,
      "outputs": []
    },
    {
      "cell_type": "code",
      "source": [
        "pdf_merged.to_csv(\"/content/drive/MyDrive/KTU/KTU_Challenge/train_data_clean.csv\", index=False)"
      ],
      "metadata": {
        "id": "AEsp33_AB_2v"
      },
      "execution_count": null,
      "outputs": []
    }
  ],
  "metadata": {
    "colab": {
      "provenance": []
    },
    "kernelspec": {
      "display_name": "Python 3",
      "name": "python3"
    },
    "language_info": {
      "name": "python"
    }
  },
  "nbformat": 4,
  "nbformat_minor": 0
}